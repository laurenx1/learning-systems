{
  "nbformat": 4,
  "nbformat_minor": 0,
  "metadata": {
    "colab": {
      "provenance": [],
      "authorship_tag": "ABX9TyNV09V7h8tNc/RPW4XGdvA4",
      "include_colab_link": true
    },
    "kernelspec": {
      "name": "python3",
      "display_name": "Python 3"
    },
    "language_info": {
      "name": "python"
    }
  },
  "cells": [
    {
      "cell_type": "markdown",
      "metadata": {
        "id": "view-in-github",
        "colab_type": "text"
      },
      "source": [
        "<a href=\"https://colab.research.google.com/github/laurenx1/learning-systems/blob/main/perceptron_learning_algorithm.ipynb\" target=\"_parent\"><img src=\"https://colab.research.google.com/assets/colab-badge.svg\" alt=\"Open In Colab\"/></a>"
      ]
    },
    {
      "cell_type": "code",
      "execution_count": null,
      "metadata": {
        "id": "_QOL0oMoNg_p"
      },
      "outputs": [],
      "source": [
        "import numpy as np\n",
        "\n",
        "def generate_random_line():\n",
        "    point1 = np.random.uniform(-1, 1, 2)\n",
        "    point2 = np.random.uniform(-1, 1, 2)\n",
        "    slope = (point2[1] - point1[1]) / (point2[0] - point1[0])\n",
        "    intercept = point1[1] - slope * point1[0]\n",
        "    return slope, intercept\n",
        "\n",
        "def generate_data(num_points, slope, intercept):\n",
        "    X = np.random.uniform(-1, 1, size=(num_points, 2))\n",
        "    y = np.sign(X[:, 1] - (slope * X[:, 0] + intercept))\n",
        "    y[y == 0] = -1\n",
        "    return X, y\n",
        "\n",
        "def perceptron_learning_algorithm(X, y):\n",
        "    num_points, num_features = X.shape\n",
        "    w = np.zeros(num_features)\n",
        "    iterations = 0\n",
        "\n",
        "    while True:\n",
        "        misclassified_indices = np.where(y != np.sign(np.dot(X, w)))[0]\n",
        "        if len(misclassified_indices) == 0:\n",
        "            break\n",
        "\n",
        "        random_misclassified_index = np.random.choice(misclassified_indices)\n",
        "        w += y[random_misclassified_index] * X[random_misclassified_index]\n",
        "        iterations += 1\n",
        "\n",
        "    return w, iterations\n",
        "\n",
        "def estimate_disagreement(f_slope, f_intercept, g_slope, g_intercept, num_points=10000):\n",
        "    test_points, _ = generate_data(num_points, f_slope, f_intercept)\n",
        "    f_classification = np.sign(test_points[:, 1] - (f_slope * test_points[:, 0] + f_intercept))\n",
        "    g_classification = np.sign(test_points[:, 1] - (g_slope * test_points[:, 0] + g_intercept))\n",
        "    disagreement = np.mean(f_classification != g_classification)\n",
        "    return disagreement\n",
        "\n",
        "# Parameters\n",
        "N = 10\n",
        "num_runs = 1000\n",
        "total_iterations = 0\n",
        "total_disagreement = 0\n",
        "\n",
        "for _ in range(num_runs):\n",
        "    target_slope, target_intercept = generate_random_line()\n",
        "    X_train, y_train = generate_data(N, target_slope, target_intercept)\n",
        "    _, iterations = perceptron_learning_algorithm(X_train, y_train)\n",
        "    total_iterations += iterations\n",
        "    total_disagreement += estimate_disagreement(target_slope, target_intercept, -target_slope, target_intercept)\n",
        "\n",
        "average_iterations = total_iterations / num_runs\n",
        "average_disagreement = total_disagreement / num_runs\n",
        "\n",
        "print(\"Average number of iterations:\", average_iterations)\n",
        "print(\"Average disagreement:\", average_disagreement)"
      ]
    }
  ]
}