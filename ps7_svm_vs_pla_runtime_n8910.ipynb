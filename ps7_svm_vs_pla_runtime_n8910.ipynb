{
  "nbformat": 4,
  "nbformat_minor": 0,
  "metadata": {
    "colab": {
      "provenance": [],
      "gpuType": "T4",
      "authorship_tag": "ABX9TyMOmkaA9eoVO1+de1MrL/G+",
      "include_colab_link": true
    },
    "kernelspec": {
      "name": "python3",
      "display_name": "Python 3"
    },
    "language_info": {
      "name": "python"
    },
    "accelerator": "GPU"
  },
  "cells": [
    {
      "cell_type": "markdown",
      "metadata": {
        "id": "view-in-github",
        "colab_type": "text"
      },
      "source": [
        "<a href=\"https://colab.research.google.com/github/laurenx1/learning-systems/blob/main/ps7_svm_vs_pla_runtime_n8910.ipynb\" target=\"_parent\"><img src=\"https://colab.research.google.com/assets/colab-badge.svg\" alt=\"Open In Colab\"/></a>"
      ]
    },
    {
      "cell_type": "code",
      "execution_count": null,
      "metadata": {
        "colab": {
          "base_uri": "https://localhost:8080/"
        },
        "id": "tKHIUFxKx6hb",
        "outputId": "685ed57b-63a5-4f37-e88b-447910b3dc02"
      },
      "outputs": [
        {
          "output_type": "stream",
          "name": "stdout",
          "text": [
            "CPU times: user 9 µs, sys: 6 µs, total: 15 µs\n",
            "Wall time: 17.9 µs\n"
          ]
        }
      ],
      "source": [
        "# measure execution time of an entire cell\n",
        "%%time\n",
        "# imports\n",
        "import numpy as np\n",
        "from sklearn.linear_model import Perceptron\n",
        "from sklearn import svm\n",
        "\n",
        "EXPERIMENTS = 1000\n",
        "N = 100\n",
        "\n",
        "def get_data(N):\n",
        "    x1, x2 = np.random.uniform(-1, 1, (2, 2))\n",
        "    m = (x1[1] - x2[1]) / (x1[0] - x2[0])\n",
        "    b = x1[1] - m*x1[0]\n",
        "\n",
        "    def y(X):\n",
        "        return 1 if X[1] > m*X[0] + b else -1\n",
        "\n",
        "    X = np.random.uniform(-1, 1, (N, 2))\n",
        "    Y = np.apply_along_axis(y, 1, X)\n",
        "\n",
        "    while len(set(Y)) == 1:\n",
        "        X = np.random.uniform(-1, 1, (N, 2))\n",
        "        Y = np.apply_along_axis(y, 1, X)\n",
        "\n",
        "    return X, Y, y\n",
        "\n",
        "\n",
        "def get_test_data(N, y):\n",
        "    X = np.random.uniform(-1, 1, (N, 2))\n",
        "    Y = np.apply_along_axis(y, 1, X)\n",
        "    return X, Y\n",
        "\n",
        "def PLA(N):\n",
        "    X, Y, y = get_data(N)\n",
        "    clf = Perceptron(tol=None)\n",
        "    clf.fit(X, Y)\n",
        "    X_test, Y_test = get_test_data(100*N, y)\n",
        "    return clf.score(X_test, Y_test)\n",
        "\n",
        "def SVM(N):\n",
        "    X, Y, y = get_data(N)\n",
        "    clf = svm.SVC(kernel='linear', C=100000000000, cache_size=20000)\n",
        "    clf.fit(X, Y)\n",
        "    X_test, Y_test = get_test_data(100*N, y)\n",
        "    return clf.score(X_test, Y_test), len(clf.support_vectors_)\n",
        "\n",
        "#count_svm_better = sum(SVM(N) > PLA(N) for _ in range(EXPERIMENTS))\n",
        "#percentage_svm_better = (count_svm_better / EXPERIMENTS) * 100\n",
        "#print(f\"gSVM is better than gPLA: {percentage_svm_better}% of the time\")"
      ]
    },
    {
      "cell_type": "code",
      "source": [
        "support_vectors_count = []\n",
        "for _ in range(EXPERIMENTS):\n",
        "    _, support_vectors = SVM(N)\n",
        "    support_vectors_count.append(support_vectors)\n",
        "\n",
        "average_support_vectors = np.mean(support_vectors_count)\n",
        "print(f\"Average number of support vectors for gSVM: {average_support_vectors}\")"
      ],
      "metadata": {
        "colab": {
          "base_uri": "https://localhost:8080/"
        },
        "id": "zmtADxmszgpN",
        "outputId": "e35239be-2887-4558-fb5b-870f1c0d68f0"
      },
      "execution_count": null,
      "outputs": [
        {
          "output_type": "stream",
          "name": "stdout",
          "text": [
            "Average number of support vectors for gSVM: 3.0\n"
          ]
        }
      ]
    }
  ]
}