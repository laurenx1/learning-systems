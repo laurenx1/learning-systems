{
  "nbformat": 4,
  "nbformat_minor": 0,
  "metadata": {
    "colab": {
      "provenance": [],
      "authorship_tag": "ABX9TyNv+wBFuJ0cQy4IpX9QNbjm",
      "include_colab_link": true
    },
    "kernelspec": {
      "name": "python3",
      "display_name": "Python 3"
    },
    "language_info": {
      "name": "python"
    }
  },
  "cells": [
    {
      "cell_type": "markdown",
      "metadata": {
        "id": "view-in-github",
        "colab_type": "text"
      },
      "source": [
        "<a href=\"https://colab.research.google.com/github/laurenx1/learning-systems/blob/main/linear_regression.ipynb\" target=\"_parent\"><img src=\"https://colab.research.google.com/assets/colab-badge.svg\" alt=\"Open In Colab\"/></a>"
      ]
    },
    {
      "cell_type": "code",
      "execution_count": null,
      "metadata": {
        "colab": {
          "base_uri": "https://localhost:8080/"
        },
        "id": "jXT0OEjhHn6B",
        "outputId": "c6562660-7334-4752-8956-ce2ebed5415a"
      },
      "outputs": [
        {
          "output_type": "stream",
          "name": "stdout",
          "text": [
            "Mounted at /content/drive\n"
          ]
        }
      ],
      "source": [
        "# imports\n",
        "import numpy as np\n",
        "import matplotlib.pyplot as plt\n",
        "\n",
        "# mounting google drive\n",
        "from google.colab import drive\n",
        "drive.mount('/content/drive')"
      ]
    },
    {
      "cell_type": "code",
      "source": [
        "# load the data we are using\n",
        "in_data = '/content/drive/MyDrive/in.dta.txt'\n",
        "out_data = '/content/drive/MyDrive/out.dta.txt'\n",
        "\n",
        "in_data = np.loadtxt(in_data)\n",
        "out_data = np.loadtxt(out_data)\n",
        "\n",
        "x_in_train = in_data[:25,:-1]\n",
        "y_in_train = in_data[:25,2]\n",
        "\n",
        "x_in_val = in_data[-10:, :-1]\n",
        "y_in_val = in_data[-10:, 2]"
      ],
      "metadata": {
        "id": "ey9lEKCMJjc9"
      },
      "execution_count": null,
      "outputs": []
    },
    {
      "cell_type": "code",
      "source": [
        "# same code as last week\n",
        "def phi(X, k):\n",
        "  assert X.shape == (2,)\n",
        "  x1, x2 = X\n",
        "  return np.array([1, x1, x2, x1 * x1, x2 * x2, x1 * x2, np.abs(x1-x2), np.abs(x1+x2)])[:k+1]"
      ],
      "metadata": {
        "id": "guwA8UtiJrhM"
      },
      "execution_count": null,
      "outputs": []
    },
    {
      "cell_type": "code",
      "source": [
        "k_range = [3, 4, 5, 6, 7]"
      ],
      "metadata": {
        "id": "SC2IQhqWPJ78"
      },
      "execution_count": null,
      "outputs": []
    },
    {
      "cell_type": "code",
      "source": [
        "def non_linear_transform(X, k):\n",
        "  Z = np.apply_along_axis(phi, 1, X, k) # applies generate_polynomial_features to every entry in X\n",
        "  return Z"
      ],
      "metadata": {
        "id": "KoO9AdlKOb4_"
      },
      "execution_count": null,
      "outputs": []
    },
    {
      "cell_type": "code",
      "source": [
        "def lin_reg(Z_train, Y_train):\n",
        "  X_dagger = np.dot(np.linalg.pinv(np.dot(Z_train.T, Z_train)), Z_train.T) # pinv instead of inv because pseudo inverse? idk.\n",
        "  W = np.dot(X_dagger, Y_train)\n",
        "  print(W.size)\n",
        "  return W"
      ],
      "metadata": {
        "id": "NauQ83S7Pv6Q"
      },
      "execution_count": null,
      "outputs": []
    },
    {
      "cell_type": "code",
      "source": [
        "def calc_error(Z, W, Y, N):\n",
        "  pred = np.sign(np.dot(Z, W))\n",
        "  E = sum(pred != Y) / N\n",
        "  return E"
      ],
      "metadata": {
        "id": "m9UlmlG6TqlT"
      },
      "execution_count": null,
      "outputs": []
    },
    {
      "cell_type": "code",
      "source": [
        "for k in k_range:\n",
        "  z_train = non_linear_transform(x_in_train, k)\n",
        "  z_val = non_linear_transform(x_in_val, k)\n",
        "\n",
        "  X_dagger = np.dot(np.linalg.inv(np.dot(z_train.T, z_train)), z_train.T)\n",
        "  W = np.dot(X_dagger, y_in_train)\n",
        "\n",
        "  preds_val = np.sign(np.dot(z_val, W))\n",
        "  E_val = sum(preds_val != y_in_val) / 10\n",
        "\n",
        "  print(str(k) + \": \" + str(E_val))"
      ],
      "metadata": {
        "colab": {
          "base_uri": "https://localhost:8080/"
        },
        "id": "7N563_YvUT-A",
        "outputId": "bad02f51-e893-481a-9ae5-056461c794fa"
      },
      "execution_count": null,
      "outputs": [
        {
          "output_type": "stream",
          "name": "stdout",
          "text": [
            "3: 0.3\n",
            "4: 0.5\n",
            "5: 0.2\n",
            "6: 0.0\n",
            "7: 0.1\n"
          ]
        }
      ]
    },
    {
      "cell_type": "code",
      "source": [
        "# out data stuff\n",
        "x_test = out_data[:,:-1]\n",
        "y_test = out_data[:,2]\n",
        "n = y_test.shape[0]\n",
        "\n",
        "for k in k_range:\n",
        "  z_train = non_linear_transform(x_in_train, k)\n",
        "  z_test = non_linear_transform(x_test, k)\n",
        "\n",
        "  X_dagger = np.dot(np.linalg.inv(np.dot(z_train.T, z_train)), z_train.T)\n",
        "  W = np.dot(X_dagger, y_in_train)\n",
        "\n",
        "  preds_test = np.sign(np.dot(z_test, W))\n",
        "  E_out = sum(preds_test != y_test) / n\n",
        "\n",
        "  print(str(k) + \": \" + str(E_out))"
      ],
      "metadata": {
        "colab": {
          "base_uri": "https://localhost:8080/"
        },
        "id": "SOvbfJj1ciSC",
        "outputId": "a1ca2e50-00d7-4a32-a176-c9715f3b8e7a"
      },
      "execution_count": null,
      "outputs": [
        {
          "output_type": "stream",
          "name": "stdout",
          "text": [
            "3: 0.42\n",
            "4: 0.416\n",
            "5: 0.188\n",
            "6: 0.084\n",
            "7: 0.072\n"
          ]
        }
      ]
    },
    {
      "cell_type": "code",
      "source": [
        "# in reversed\n",
        "x_in_val_rev = in_data[:25,:-1]\n",
        "y_in_val_rev = in_data[:25,2]\n",
        "\n",
        "x_in_train_rev = in_data[-10:, :-1]\n",
        "y_in_train_rev = in_data[-10:, 2]\n",
        "\n",
        "for k in k_range:\n",
        "  z_train = non_linear_transform(x_in_train_rev, k)\n",
        "  z_val = non_linear_transform(x_in_val_rev, k)\n",
        "\n",
        "  X_dagger = np.dot(np.linalg.inv(np.dot(z_train.T, z_train)), z_train.T)\n",
        "  W = np.dot(X_dagger, y_in_train_rev)\n",
        "\n",
        "  preds_val_rev = np.sign(np.dot(z_val, W))\n",
        "  E_val_rev = sum(preds_val_rev != y_in_val_rev) / 25\n",
        "\n",
        "  print(str(k) + \": \" + str(E_val_rev))"
      ],
      "metadata": {
        "colab": {
          "base_uri": "https://localhost:8080/"
        },
        "id": "gPNVwQk-eGyB",
        "outputId": "e29b8a66-395f-49d2-a2fc-b9a795dea190"
      },
      "execution_count": null,
      "outputs": [
        {
          "output_type": "stream",
          "name": "stdout",
          "text": [
            "3: 0.28\n",
            "4: 0.36\n",
            "5: 0.2\n",
            "6: 0.08\n",
            "7: 0.12\n"
          ]
        }
      ]
    },
    {
      "cell_type": "code",
      "source": [
        "# out again\n"
      ],
      "metadata": {
        "id": "IDEC54JPeq52"
      },
      "execution_count": null,
      "outputs": []
    }
  ]
}