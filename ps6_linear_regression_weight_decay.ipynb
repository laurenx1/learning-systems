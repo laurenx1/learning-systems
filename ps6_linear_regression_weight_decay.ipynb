{
  "nbformat": 4,
  "nbformat_minor": 0,
  "metadata": {
    "colab": {
      "provenance": [],
      "mount_file_id": "1WxSSZLMOZRtVSHyzUM7vYO7SMqucwQTT",
      "authorship_tag": "ABX9TyNcEimvt/X2YxRJMNrXa9fu",
      "include_colab_link": true
    },
    "kernelspec": {
      "name": "python3",
      "display_name": "Python 3"
    },
    "language_info": {
      "name": "python"
    }
  },
  "cells": [
    {
      "cell_type": "markdown",
      "metadata": {
        "id": "view-in-github",
        "colab_type": "text"
      },
      "source": [
        "<a href=\"https://colab.research.google.com/github/laurenx1/learning-systems/blob/main/ps6_linear_regression_weight_decay.ipynb\" target=\"_parent\"><img src=\"https://colab.research.google.com/assets/colab-badge.svg\" alt=\"Open In Colab\"/></a>"
      ]
    },
    {
      "cell_type": "code",
      "execution_count": null,
      "metadata": {
        "colab": {
          "base_uri": "https://localhost:8080/"
        },
        "id": "rS1hYAwQ1WpP",
        "outputId": "34339f50-1501-4daa-8908-f18260fabb29"
      },
      "outputs": [
        {
          "output_type": "stream",
          "name": "stdout",
          "text": [
            "Drive already mounted at /content/drive; to attempt to forcibly remount, call drive.mount(\"/content/drive\", force_remount=True).\n"
          ]
        }
      ],
      "source": [
        "# imports\n",
        "import numpy as np\n",
        "from sklearn.preprocessing import PolynomialFeatures\n",
        "import matplotlib.pyplot as plt\n",
        "\n",
        "# mounting google drive\n",
        "from google.colab import drive\n",
        "drive.mount('/content/drive')"
      ]
    },
    {
      "cell_type": "code",
      "source": [
        "# load the data we are using\n",
        "in_data = '/content/drive/MyDrive/in.dta.txt'\n",
        "out_data = '/content/drive/MyDrive/out.dta.txt'\n",
        "\n",
        "train = np.loadtxt(in_data)\n",
        "test = np.loadtxt(out_data)"
      ],
      "metadata": {
        "id": "cCIR1uGb2b_O"
      },
      "execution_count": null,
      "outputs": []
    },
    {
      "cell_type": "code",
      "source": [
        "# training data\n",
        "X_train = train[:, :-1] #  store the features (independent variables) for training, basically all params except the last column s.t. the outputs are not included\n",
        "Y_train = train[:, 2] # store the target values (dependent variable) for training, the outputs we omitted above\n",
        "N_train = X_train.shape[0]  # number of rows in X_train, or the number of examples.\n",
        "\n",
        "# testing data\n",
        "X_test = test[:, :-1]\n",
        "Y_test = test[:, 2]\n",
        "N_test = X_test.shape[0]"
      ],
      "metadata": {
        "colab": {
          "base_uri": "https://localhost:8080/"
        },
        "id": "_y1kdfGc2eI7",
        "outputId": "87af2c0f-f9af-40f1-b668-ef3c7bbc1690"
      },
      "execution_count": null,
      "outputs": [
        {
          "output_type": "execute_result",
          "data": {
            "text/plain": [
              "35"
            ]
          },
          "metadata": {},
          "execution_count": 13
        }
      ]
    },
    {
      "cell_type": "code",
      "source": [
        "# making transformed feature vector for input to linear regression\n",
        "def generate_polynomial_features(X, degree=2):\n",
        "  assert X.shape == (2,)\n",
        "  #poly = PolynomialFeatures(degree=2, include_bias=False)\n",
        "  #X = X.reshape(1, -1)\n",
        "  #feature_vector = poly.fit_transform(X)\n",
        "  #return feature_vector[0]\n",
        "\n",
        "  # ok fine that didn't work ill do it the boring way\n",
        "  x1, x2 = X\n",
        "  return np.array([1, x1, x2, x1 * x1, x2 * x2, x1 * x2, np.abs(x1-x2), np.abs(x1+x2)])"
      ],
      "metadata": {
        "id": "ubal6Apq7w-R"
      },
      "execution_count": null,
      "outputs": []
    },
    {
      "cell_type": "code",
      "source": [
        "# non-linear transformation on the data\n",
        "def non_linear_transform(X):\n",
        "  Z = np.apply_along_axis(generate_polynomial_features, 1, X) # applies generate_polynomial_features to every entry in X\n",
        "  return Z"
      ],
      "metadata": {
        "id": "9Q8Bo-3oBn-9"
      },
      "execution_count": null,
      "outputs": []
    },
    {
      "cell_type": "code",
      "source": [
        "def lin_reg(Z_train, Y_train):\n",
        "  X_dagger = np.dot(np.linalg.pinv(np.dot(Z_train.T, Z_train)), Z_train.T) # pinv instead of inv because pseudo inverse? idk.\n",
        "  W = np.dot(X_dagger, Y_train)\n",
        "  print(W.size)\n",
        "  return W"
      ],
      "metadata": {
        "id": "KtQuerctEHvl"
      },
      "execution_count": null,
      "outputs": []
    },
    {
      "cell_type": "code",
      "source": [
        "# works for E_in or E_out, just switch out train or test data\n",
        "def calc_error(Z, W, Y, N):\n",
        "  pred = np.sign(np.dot(Z, W))\n",
        "  E = sum(pred != Y) / N\n",
        "  return E"
      ],
      "metadata": {
        "id": "vVVyuVBCEfeS"
      },
      "execution_count": null,
      "outputs": []
    },
    {
      "cell_type": "code",
      "source": [
        "# do the thing\n",
        "Z_train = non_linear_transform(X_train)\n",
        "Z_test = non_linear_transform(X_test)\n",
        "\n",
        "W = lin_reg(Z_train, Y_train)\n",
        "E_IN = calc_error(Z_train, W, Y_train, N_train)\n",
        "E_OUT = calc_error(Z_test, W, Y_test, N_test)\n",
        "\n",
        "E_IN"
      ],
      "metadata": {
        "colab": {
          "base_uri": "https://localhost:8080/"
        },
        "id": "hRZFm9muGpFh",
        "outputId": "4b05fa06-b269-469b-af09-e820c44afbae"
      },
      "execution_count": null,
      "outputs": [
        {
          "output_type": "stream",
          "name": "stdout",
          "text": [
            "8\n"
          ]
        },
        {
          "output_type": "execute_result",
          "data": {
            "text/plain": [
              "0.02857142857142857"
            ]
          },
          "metadata": {},
          "execution_count": 18
        }
      ]
    },
    {
      "cell_type": "code",
      "source": [
        "E_OUT"
      ],
      "metadata": {
        "colab": {
          "base_uri": "https://localhost:8080/"
        },
        "id": "WSjrOEwu_6Ht",
        "outputId": "1b83775c-9de5-4e3c-aa6a-1a1791e8b704"
      },
      "execution_count": null,
      "outputs": [
        {
          "output_type": "execute_result",
          "data": {
            "text/plain": [
              "0.084"
            ]
          },
          "metadata": {},
          "execution_count": 12
        }
      ]
    },
    {
      "cell_type": "code",
      "source": [
        "# linear regression with regularization (weight decay)\n",
        "k = 3\n",
        "lmda = 10 ** k\n",
        "\n",
        "def lin_reg_reg(Z_train, Y_train, lmda):\n",
        "  X_dagger = np.dot(np.linalg.inv(np.dot(Z_train.T, Z_train) + lmda * np.identity(8)), Z_train.T) # 8 because W.size is 8.\n",
        "  # ^ we can count this from generate_polynomial_features when we don't count the 1 term.\n",
        "  W = np.dot(X_dagger, Y_train)\n",
        "  return W"
      ],
      "metadata": {
        "id": "vAFt47wSCXYL"
      },
      "execution_count": null,
      "outputs": []
    },
    {
      "cell_type": "code",
      "source": [
        "W_reg = lin_reg_reg(Z_train, Y_train, lmda)\n",
        "E_IN_reg = calc_error(Z_train, W_reg, Y_train, N_train)\n",
        "E_OUT_reg = calc_error(Z_test, W_reg, Y_test, N_test)\n",
        "\n",
        "E_IN_reg"
      ],
      "metadata": {
        "colab": {
          "base_uri": "https://localhost:8080/"
        },
        "id": "pB7qrWgJFYp1",
        "outputId": "61a66a59-6b54-4401-aafa-591d3e3255f6"
      },
      "execution_count": null,
      "outputs": [
        {
          "output_type": "execute_result",
          "data": {
            "text/plain": [
              "0.37142857142857144"
            ]
          },
          "metadata": {},
          "execution_count": 24
        }
      ]
    },
    {
      "cell_type": "code",
      "source": [
        "E_OUT_reg"
      ],
      "metadata": {
        "colab": {
          "base_uri": "https://localhost:8080/"
        },
        "id": "xXOyNmYVHH6c",
        "outputId": "617ef9c7-a62f-4071-81d3-aecb5ca77291"
      },
      "execution_count": null,
      "outputs": [
        {
          "output_type": "execute_result",
          "data": {
            "text/plain": [
              "0.436"
            ]
          },
          "metadata": {},
          "execution_count": 25
        }
      ]
    },
    {
      "cell_type": "code",
      "source": [
        "# code to make graph for 5, 6\n",
        "\n",
        "k_vals = []\n",
        "\n",
        "# Initialize a list to store corresponding E_OUT values\n",
        "E_OUT_vals = []\n",
        "\n",
        "# Define a list of specific lambda values you want to highlight\n",
        "highlighted_k_vals = [2, 1, 0, -1, -2]\n",
        "\n",
        "# Define variables to keep track of the lowest E_OUT and its corresponding lambda\n",
        "lowest_E_OUT = float('inf')\n",
        "best_k = None\n",
        "\n",
        "\n",
        "k_range = np.linspace(-5, 5, 100)\n",
        "\n",
        "# calculate E_OUT for each k value and track the lowest value\n",
        "for k in k_range:\n",
        "    W_reg = lin_reg_reg(Z_train, Y_train, 10 ** k)\n",
        "    E_OUT_reg = calc_error(Z_test, W_reg, Y_test, N_test)\n",
        "    k_vals.append(k)\n",
        "    E_OUT_vals.append(E_OUT_reg)\n",
        "\n",
        "    if E_OUT_reg < lowest_E_OUT:\n",
        "        lowest_E_OUT = E_OUT_reg\n",
        "        best_k = k\n",
        "\n",
        "# Create the graph\n",
        "plt.figure()\n",
        "plt.plot(k_vals, E_OUT_vals, marker='o', linestyle='-', color='b')  # Use plt.plot for a linear x-axis\n",
        "plt.title('Weight Decay Curve')\n",
        "plt.xlabel('k')\n",
        "plt.ylabel('E_OUT')\n",
        "plt.grid(True)\n",
        "\n",
        "# mark the point with the lowest E_OUT\n",
        "plt.scatter(best_k, lowest_E_OUT, color='red', label=f'Best k ({lowest_E_OUT:.4f})', zorder=5)\n",
        "\n",
        "# mark specific lambda values\n",
        "for highlighted_k in highlighted_k_vals:\n",
        "    idx = k_vals.index(highlighted_k)\n",
        "    plt.scatter(highlighted_k, E_OUT_vals[idx], color='green', label=f'k = {highlighted_k}', zorder=5)\n",
        "\n",
        "plt.legend()\n",
        "plt.show()\n"
      ],
      "metadata": {
        "colab": {
          "base_uri": "https://localhost:8080/",
          "height": 705
        },
        "id": "6pTo8e0jKpp8",
        "outputId": "cffc9bc3-fd8f-41cf-9ca7-afbcec75fac6"
      },
      "execution_count": null,
      "outputs": [
        {
          "output_type": "error",
          "ename": "ValueError",
          "evalue": "ignored",
          "traceback": [
            "\u001b[0;31m---------------------------------------------------------------------------\u001b[0m",
            "\u001b[0;31mValueError\u001b[0m                                Traceback (most recent call last)",
            "\u001b[0;32m<ipython-input-34-0915c55a8679>\u001b[0m in \u001b[0;36m<cell line: 41>\u001b[0;34m()\u001b[0m\n\u001b[1;32m     40\u001b[0m \u001b[0;31m# mark specific lambda values\u001b[0m\u001b[0;34m\u001b[0m\u001b[0;34m\u001b[0m\u001b[0m\n\u001b[1;32m     41\u001b[0m \u001b[0;32mfor\u001b[0m \u001b[0mhighlighted_k\u001b[0m \u001b[0;32min\u001b[0m \u001b[0mhighlighted_k_vals\u001b[0m\u001b[0;34m:\u001b[0m\u001b[0;34m\u001b[0m\u001b[0;34m\u001b[0m\u001b[0m\n\u001b[0;32m---> 42\u001b[0;31m     \u001b[0midx\u001b[0m \u001b[0;34m=\u001b[0m \u001b[0mk_vals\u001b[0m\u001b[0;34m.\u001b[0m\u001b[0mindex\u001b[0m\u001b[0;34m(\u001b[0m\u001b[0mhighlighted_k\u001b[0m\u001b[0;34m)\u001b[0m\u001b[0;34m\u001b[0m\u001b[0;34m\u001b[0m\u001b[0m\n\u001b[0m\u001b[1;32m     43\u001b[0m     \u001b[0mplt\u001b[0m\u001b[0;34m.\u001b[0m\u001b[0mscatter\u001b[0m\u001b[0;34m(\u001b[0m\u001b[0mhighlighted_k\u001b[0m\u001b[0;34m,\u001b[0m \u001b[0mE_OUT_vals\u001b[0m\u001b[0;34m[\u001b[0m\u001b[0midx\u001b[0m\u001b[0;34m]\u001b[0m\u001b[0;34m,\u001b[0m \u001b[0mcolor\u001b[0m\u001b[0;34m=\u001b[0m\u001b[0;34m'green'\u001b[0m\u001b[0;34m,\u001b[0m \u001b[0mlabel\u001b[0m\u001b[0;34m=\u001b[0m\u001b[0;34mf'k = {highlighted_k}'\u001b[0m\u001b[0;34m,\u001b[0m \u001b[0mzorder\u001b[0m\u001b[0;34m=\u001b[0m\u001b[0;36m5\u001b[0m\u001b[0;34m)\u001b[0m\u001b[0;34m\u001b[0m\u001b[0;34m\u001b[0m\u001b[0m\n\u001b[1;32m     44\u001b[0m \u001b[0;34m\u001b[0m\u001b[0m\n",
            "\u001b[0;31mValueError\u001b[0m: 2 is not in list"
          ]
        },
        {
          "output_type": "display_data",
          "data": {
            "text/plain": [
              "<Figure size 640x480 with 1 Axes>"
            ],
            "image/png": "[encoded data removed]"
          },
          "metadata": {}
        }
      ]
    },
    {
      "cell_type": "code",
      "source": [],
      "metadata": {
        "id": "aesNfJiQbZJl"
      },
      "execution_count": null,
      "outputs": []
    }
  ]
}