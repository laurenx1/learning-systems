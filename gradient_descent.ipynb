{
  "nbformat": 4,
  "nbformat_minor": 0,
  "metadata": {
    "colab": {
      "provenance": [],
      "authorship_tag": "ABX9TyMV/QRGEs7Zys9deY67HBba",
      "include_colab_link": true
    },
    "kernelspec": {
      "name": "python3",
      "display_name": "Python 3"
    },
    "language_info": {
      "name": "python"
    }
  },
  "cells": [
    {
      "cell_type": "markdown",
      "metadata": {
        "id": "view-in-github",
        "colab_type": "text"
      },
      "source": [
        "<a href=\"https://colab.research.google.com/github/laurenx1/learning-systems/blob/main/gradient_descent.ipynb\" target=\"_parent\"><img src=\"https://colab.research.google.com/assets/colab-badge.svg\" alt=\"Open In Colab\"/></a>"
      ]
    },
    {
      "cell_type": "code",
      "execution_count": null,
      "metadata": {
        "id": "fQdlPzPctzJe"
      },
      "outputs": [],
      "source": [
        "# imports\n",
        "import numpy as np\n",
        "import math"
      ]
    },
    {
      "cell_type": "code",
      "source": [
        "# nonlinear error surface\n",
        "def E(u, v):\n",
        "  return (u*math.e**v - 2*v*math.e**(-u))**2"
      ],
      "metadata": {
        "id": "BW6Duud2uIMH"
      },
      "execution_count": null,
      "outputs": []
    },
    {
      "cell_type": "code",
      "source": [
        "def gradient_descent():\n",
        "  iter = 0\n",
        "\n",
        "  # in problem, stated that we start @ u,v = 1,1\n",
        "  x = [1, 1]\n",
        "  learning_rate = 0.1\n",
        "\n",
        "  for i in range(1, 10**4):\n",
        "    iter = i\n",
        "\n",
        "    u, v = x\n",
        "    dE_du = 2 * (u*math.e**v -2*v*math.e**(-u)) * (math.e**v + 2*v*math.e**(-u))\n",
        "    dE_dv = 2 * (u*math.e**v -2*v*math.e**(-u)) * (u*math.e**v - 2*math.e**(-u))\n",
        "    gradient = np.array([dE_du, dE_dv])\n",
        "\n",
        "    x = x - learning_rate * gradient\n",
        "    store_pos = x\n",
        "\n",
        "    #error condition\n",
        "    if E(x[0], x[1]) < 10**(-14):\n",
        "      break\n",
        "\n",
        "  return iter, store_pos\n",
        "\n"
      ],
      "metadata": {
        "id": "pGP2oREJuZ5-"
      },
      "execution_count": null,
      "outputs": []
    },
    {
      "cell_type": "code",
      "source": [
        "ITER, STORE_POS = gradient_descent()\n",
        "ITER"
      ],
      "metadata": {
        "colab": {
          "base_uri": "https://localhost:8080/"
        },
        "id": "ZEx8Sts2wUiq",
        "outputId": "f16433c6-c1fe-4dc6-ff56-18ce4574dce0"
      },
      "execution_count": null,
      "outputs": [
        {
          "output_type": "execute_result",
          "data": {
            "text/plain": [
              "10"
            ]
          },
          "metadata": {},
          "execution_count": 4
        }
      ]
    },
    {
      "cell_type": "code",
      "source": [
        "STORE_POS"
      ],
      "metadata": {
        "colab": {
          "base_uri": "https://localhost:8080/"
        },
        "id": "V_hR3MBWwaKT",
        "outputId": "c8287352-59d8-401b-c29a-a9154a0ef2af"
      },
      "execution_count": null,
      "outputs": [
        {
          "output_type": "execute_result",
          "data": {
            "text/plain": [
              "array([0.04473629, 0.02395871])"
            ]
          },
          "metadata": {},
          "execution_count": 5
        }
      ]
    },
    {
      "cell_type": "code",
      "source": [
        "def coordinate_descent(iter=15, learning_rate=0.1):\n",
        "  e = math.e\n",
        "\n",
        "  x = [1, 1]\n",
        "\n",
        "  for i in range(iter):\n",
        "    # gradient and update in u direction\n",
        "    u, v = x\n",
        "    dE_du = 2 * (u*e**v - 2*v*e**(-u)) * (e**v + 2*v*e**(-u))\n",
        "    gradient_u = np.array([dE_du, 0])\n",
        "    x = x - learning_rate * gradient_u\n",
        "\n",
        "    # gradient and update in v direction\n",
        "    u, v = x\n",
        "    dE_dv = 2 * (u*e**v -2*v*e**(-u)) * (u*e**v - 2*e**(-u))\n",
        "    gradient_v = np.array([0, dE_dv])\n",
        "    x = x - learning_rate * gradient_v\n",
        "\n",
        "  final_E = E(x[0], x[1])\n",
        "  return final_E"
      ],
      "metadata": {
        "id": "E4FxIwfCzS8r"
      },
      "execution_count": null,
      "outputs": []
    },
    {
      "cell_type": "code",
      "source": [
        "FINAL_E = coordinate_descent()\n",
        "FINAL_E"
      ],
      "metadata": {
        "colab": {
          "base_uri": "https://localhost:8080/"
        },
        "id": "oR5vUS4B8Ltf",
        "outputId": "ddc449f9-5928-4521-fcbd-a5fdb30b7568"
      },
      "execution_count": null,
      "outputs": [
        {
          "output_type": "execute_result",
          "data": {
            "text/plain": [
              "0.13981379199615324"
            ]
          },
          "metadata": {},
          "execution_count": 11
        }
      ]
    }
  ]
}