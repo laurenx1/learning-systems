{
  "nbformat": 4,
  "nbformat_minor": 0,
  "metadata": {
    "colab": {
      "provenance": [],
      "gpuType": "T4",
      "authorship_tag": "ABX9TyOSgDhsak14g4HnpO2ZZUvu",
      "include_colab_link": true
    },
    "kernelspec": {
      "name": "python3",
      "display_name": "Python 3"
    },
    "language_info": {
      "name": "python"
    },
    "accelerator": "GPU"
  },
  "cells": [
    {
      "cell_type": "markdown",
      "metadata": {
        "id": "view-in-github",
        "colab_type": "text"
      },
      "source": [
        "<a href=\"https://colab.research.google.com/github/laurenx1/learning-systems/blob/main/stochastic_gradient_descent.ipynb\" target=\"_parent\"><img src=\"https://colab.research.google.com/assets/colab-badge.svg\" alt=\"Open In Colab\"/></a>"
      ]
    },
    {
      "cell_type": "code",
      "source": [
        "import numpy as np\n",
        "import math\n",
        "import random"
      ],
      "metadata": {
        "id": "o3BG150QBPMh"
      },
      "execution_count": null,
      "outputs": []
    },
    {
      "cell_type": "code",
      "source": [
        "N = 100\n",
        "num_runs = 100\n",
        "learning_rate = 0.01\n",
        "iter = 10**4"
      ],
      "metadata": {
        "id": "NnSNeS57BK_L"
      },
      "execution_count": null,
      "outputs": []
    },
    {
      "cell_type": "code",
      "execution_count": null,
      "metadata": {
        "id": "Xvvw79fcBJZp"
      },
      "outputs": [],
      "source": [
        "def stoch_grad_desc(N, num_runs, learning_rate, max_iter):\n",
        "    def generate_random_line():\n",
        "        pt1 = np.random.uniform(-1, 1, 2)\n",
        "        pt2 = np.random.uniform(-1, 1, 2)\n",
        "        m = (pt2[1] - pt1[1]) / (pt2[0] - pt1[0])\n",
        "        b = pt2[1] - m * pt2[0]\n",
        "        f_weights = np.array([b, m, -1])\n",
        "        return f_weights\n",
        "\n",
        "    def calculate_E_out(X_test, f_weights, g_weights):\n",
        "        y_f_test = np.sign(np.dot(X_test, f_weights))\n",
        "        E_out_total = 0\n",
        "\n",
        "        for i in range(len(y_f_test)):\n",
        "            E_out_total += math.log(1 + math.exp(-y_f_test[i] * np.dot(X_test[i, :], g_weights)))\n",
        "\n",
        "        return E_out_total / len(y_f_test)\n",
        "\n",
        "    E_out_total = 0\n",
        "    epoch_count = 0\n",
        "\n",
        "    for _ in range(num_runs):\n",
        "        f_weights = generate_random_line()\n",
        "        X = np.transpose(np.array([np.ones(N), np.random.uniform(-1, 1, N), np.random.uniform(-1, 1, N)]))\n",
        "        y_f = np.sign(np.dot(X, f_weights))\n",
        "\n",
        "        g_weights = np.zeros(3)\n",
        "\n",
        "        for j in range(max_iter):\n",
        "            curr_hypothesis = g_weights\n",
        "            random.shuffle(list(range(N)))\n",
        "\n",
        "            for idx in range(N):\n",
        "                x = X[idx, :]\n",
        "                y = y_f[idx]\n",
        "                exponent = math.exp(y * np.dot(g_weights.T, x))\n",
        "                g_weights = g_weights - learning_rate * (-y * x / (1 + exponent))\n",
        "\n",
        "            if np.linalg.norm(g_weights - curr_hypothesis) < 0.01:\n",
        "                break\n",
        "\n",
        "        epoch_count += j\n",
        "\n",
        "        X_test = np.array([np.ones(N * 10), np.random.uniform(-1, 1, N * 10), np.random.uniform(-1, 1, N * 10)]).T\n",
        "        E_out_total += calculate_E_out(X_test, f_weights, g_weights)\n",
        "\n",
        "    E_out = E_out_total / num_runs\n",
        "    epochs = epoch_count / num_runs\n",
        "\n",
        "    return (E_out, epochs)"
      ]
    },
    {
      "cell_type": "code",
      "source": [
        "E_OUT, EPOCHS = stoich_grad_desc(N, num_runs, learning_rate, iter)\n",
        "E_OUT"
      ],
      "metadata": {
        "colab": {
          "base_uri": "https://localhost:8080/"
        },
        "id": "fxLJpWFxBbQi",
        "outputId": "b7d2300c-1879-45b0-e69b-bae63ab2a0bd"
      },
      "execution_count": null,
      "outputs": [
        {
          "output_type": "execute_result",
          "data": {
            "text/plain": [
              "0.10411295980605134"
            ]
          },
          "metadata": {},
          "execution_count": 5
        }
      ]
    },
    {
      "cell_type": "code",
      "source": [
        "EPOCHS"
      ],
      "metadata": {
        "colab": {
          "base_uri": "https://localhost:8080/"
        },
        "id": "eWj_UtIsBljZ",
        "outputId": "5c43d2da-1ab5-49d3-8ed4-761843ef8a76"
      },
      "execution_count": null,
      "outputs": [
        {
          "output_type": "execute_result",
          "data": {
            "text/plain": [
              "336.57"
            ]
          },
          "metadata": {},
          "execution_count": 6
        }
      ]
    }
  ]
}