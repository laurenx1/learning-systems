{
  "nbformat": 4,
  "nbformat_minor": 0,
  "metadata": {
    "colab": {
      "provenance": [],
      "gpuType": "T4",
      "authorship_tag": "ABX9TyNdthRK3L+39YphhTp0Lr+U",
      "include_colab_link": true
    },
    "kernelspec": {
      "name": "python3",
      "display_name": "Python 3"
    },
    "language_info": {
      "name": "python"
    },
    "accelerator": "GPU"
  },
  "cells": [
    {
      "cell_type": "markdown",
      "metadata": {
        "id": "view-in-github",
        "colab_type": "text"
      },
      "source": [
        "<a href=\"https://colab.research.google.com/github/laurenx1/learning-systems/blob/main/lin_reg_pla.ipynb\" target=\"_parent\"><img src=\"https://colab.research.google.com/assets/colab-badge.svg\" alt=\"Open In Colab\"/></a>"
      ]
    },
    {
      "cell_type": "code",
      "source": [
        "import numpy as np"
      ],
      "metadata": {
        "id": "hnmQTpfIoeZ4"
      },
      "execution_count": null,
      "outputs": []
    },
    {
      "cell_type": "code",
      "source": [
        "def get_random_line():\n",
        "\n",
        "  p1 = np.random.uniform(-1, 1, size=2)\n",
        "  p2 = np.random.uniform(-1, 1, size=2)\n",
        "\n",
        "  while p1[0] == p2[0]:\n",
        "    p2 = np.random.uniform(-1, 1, 2)\n",
        "\n",
        "  m = (p1[1] - p2[1]) / (p1[0] - p2[0])\n",
        "  b = p1[1] - m*p1[0]\n",
        "\n",
        "  return m,b"
      ],
      "metadata": {
        "id": "Z-Zw4YTKlYoA"
      },
      "execution_count": null,
      "outputs": []
    },
    {
      "cell_type": "code",
      "source": [
        "def get_random_data(n, m, b):\n",
        "  x = np.random.uniform(-1, 1, size=(n, 2))\n",
        "  x = np.hstack((x, np.ones((n, 1))))\n",
        "  y = np.sign(x[:, 1] - (m * x[:, 0] + b))\n",
        "\n",
        "  return x, y"
      ],
      "metadata": {
        "id": "Yw5yG1kRlcXD"
      },
      "execution_count": null,
      "outputs": []
    },
    {
      "cell_type": "code",
      "source": [
        "#params\n",
        "n = 1000\n",
        "num_runs = 1000\n",
        "total_iterations = 0\n",
        "total_e_in = 0\n",
        "total_e_out = 0"
      ],
      "metadata": {
        "id": "TZmHP2Qvlk5g"
      },
      "execution_count": null,
      "outputs": []
    },
    {
      "cell_type": "code",
      "source": [
        "# lin reg fxn rewritten because my code\n",
        "# gave me an error and its too\n",
        "# late at night to keep tryna fix an error\n",
        "# where I have no clue whats its talking abt\n",
        "def lin_reg(n, num_runs, total_iterations):\n",
        "  for _ in range(num_runs):\n",
        "    f_m, f_b = get_random_line()\n",
        "    x, y_f = get_random_data(n, f_m, f_b)\n",
        "\n",
        "    X = np.dot(np.linalg.inv(np.dot(x.T, x)), x.T)\n",
        "    w = np.dot(X, y_f)\n",
        "\n",
        "    iterations = 0\n",
        "    w_copy = np.copy(w)\n",
        "\n",
        "    # ok now for the PLA\n",
        "    while True:\n",
        "      misclassified = np.where(np.sign(np.dot(x, w_copy)) != y_f)[0]\n",
        "      if misclassified.size == 0:\n",
        "        break\n",
        "\n",
        "      rand_misclassified_pt = np.random.choice(misclassified)\n",
        "      w_copy = w_copy + y_f[rand_misclassified_pt] * np.transpose(x[rand_misclassified_pt])\n",
        "      iterations += 1\n",
        "\n",
        "    total_iterations += iterations\n",
        "  return total_iterations / num_runs"
      ],
      "metadata": {
        "id": "eHV9IAkfmQSw"
      },
      "execution_count": null,
      "outputs": []
    },
    {
      "cell_type": "code",
      "source": [
        "iterations = lin_reg(n, num_runs, total_iterations)\n",
        "print(iterations)"
      ],
      "metadata": {
        "id": "CprhsaGBq2z4"
      },
      "execution_count": null,
      "outputs": []
    },
    {
      "cell_type": "code",
      "source": [
        "def nonlin_transform(n, num_runs, total_e_in):\n",
        "  for _ in range(num_runs):\n",
        "    # creating dataset using target function provided by problem\n",
        "    x_train = np.transpose(np.array([np.ones(n), np.random.uniform(-1, 1, size = n), np.random.uniform(-1, 1, size = n)]))\n",
        "    y_train = np.sign(x_train[:,1] * x_train[:,1] + x_train[:,2] * x_train[:,2] - 0.6)\n",
        "\n",
        "    # pick 10%\n",
        "    idxs = list(range(n))\n",
        "    np.random.shuffle(idxs)\n",
        "    rand_idxs = idxs[:(n // 10)]\n",
        "\n",
        "    y_train = [(-1) * y_train[idx] if idx in rand_idxs else y_train[idx] for idx in range(len(y_train))]\n",
        "\n",
        "\n",
        "    X = np.dot(np.linalg.inv(np.dot(x_train.T, x_train)), x_train.T)\n",
        "    w = np.dot(X, y_train)\n",
        "\n",
        "\n",
        "    y_g = np.sign(np.dot(x_train, w))\n",
        "    e_in = sum((y_g != y_train))  /n\n",
        "    total_e_in += e_in\n",
        "\n",
        "  return total_e_in / num_runs"
      ],
      "metadata": {
        "id": "FoKNarYEuvfP"
      },
      "execution_count": null,
      "outputs": []
    },
    {
      "cell_type": "code",
      "source": [
        "e_in = nonlin_transform(n, num_runs, total_e_in)\n",
        "print(e_in)"
      ],
      "metadata": {
        "colab": {
          "base_uri": "https://localhost:8080/"
        },
        "id": "sZzfGqIT2EwX",
        "outputId": "d41bf7e5-96c4-459d-959c-43df8d7ce448"
      },
      "execution_count": null,
      "outputs": [
        {
          "output_type": "stream",
          "name": "stdout",
          "text": [
            "0.5044499999999998\n"
          ]
        }
      ]
    },
    {
      "cell_type": "code",
      "source": [
        "def get_weight_vector(n):\n",
        "  X = np.random.uniform(-1, 1, size=(n,2))\n",
        "  X = np.hstack((np.ones((n, 1)), X, X[:, 0:1] * X[:, 1:], X ** 2))\n",
        "  y_train = np.sign(X[:,1] * X[:,1] + X[:,2] * X[:,2] - 0.6)\n",
        "\n",
        "  x_lin_reg = np.dot(np.linalg.inv(np.dot(X.T, X)), X.T)\n",
        "  w = np.dot(x_lin_reg, y_train)\n",
        "\n",
        "  return w\n"
      ],
      "metadata": {
        "id": "CrOdMhJw3HrZ"
      },
      "execution_count": null,
      "outputs": []
    },
    {
      "cell_type": "code",
      "source": [
        "weight = get_weight_vector(n)\n",
        "print(weight)"
      ],
      "metadata": {
        "colab": {
          "base_uri": "https://localhost:8080/"
        },
        "id": "QpUtwCG7-gzT",
        "outputId": "74195da7-fee2-49eb-8673-ca8fb9a48d16"
      },
      "execution_count": null,
      "outputs": [
        {
          "output_type": "stream",
          "name": "stdout",
          "text": [
            "[-1.25893683  0.02905857  0.07490534  0.0390164   1.87012268  1.98345379]\n"
          ]
        }
      ]
    },
    {
      "cell_type": "code",
      "source": [
        "def omg_im_almost_done(n, num_runs, total_e_out):\n",
        "  for _ in range(num_runs):\n",
        "    # creating dataset using target function provided by problem\n",
        "    x_train = np.transpose(np.array([np.ones(n), np.random.uniform(-1, 1, size = n), np.random.uniform(-1, 1, size = n)]))\n",
        "    y_train = np.sign(x_train[:,1] * x_train[:,1] + x_train[:,2] * x_train[:,2] - 0.6)\n",
        "\n",
        "    # pick 10%\n",
        "    idxs = list(range(n))\n",
        "    np.random.shuffle(idxs)\n",
        "    rand_idxs = idxs[:(n // 10)]\n",
        "\n",
        "    y_train = [(-1) * y_train[idx] if idx in rand_idxs else y_train[idx] for idx in range(len(y_train))]\n",
        "\n",
        "    X = x_train\n",
        "    X_trans = np.transpose(np.array([np.ones(n), X[:,1], X[:,2], X[:,1]*X[:,2], X[:,1]*X[:,1], X[:,2]*X[:,2]]))\n",
        "    w = np.array([-1, -0.05, 0.08, 0.13, 1.5, 1.5])\n",
        "    y_g = np.sign(np.dot(X_trans, w))\n",
        "\n",
        "    e_out = sum(y_g != y_train) / n\n",
        "    total_e_out += e_out\n",
        "  return total_e_out / num_runs"
      ],
      "metadata": {
        "id": "SfVZaaOEBen8"
      },
      "execution_count": null,
      "outputs": []
    },
    {
      "cell_type": "code",
      "source": [
        "its_so_late = omg_im_almost_done(n, num_runs, total_e_out)\n",
        "print(its_so_late)"
      ],
      "metadata": {
        "colab": {
          "base_uri": "https://localhost:8080/"
        },
        "id": "nGNDuj7fClY1",
        "outputId": "64d94ef9-1837-4395-939c-fb683b2561a2"
      },
      "execution_count": null,
      "outputs": [
        {
          "output_type": "stream",
          "name": "stdout",
          "text": [
            "0.14331100000000044\n"
          ]
        }
      ]
    }
  ]
}